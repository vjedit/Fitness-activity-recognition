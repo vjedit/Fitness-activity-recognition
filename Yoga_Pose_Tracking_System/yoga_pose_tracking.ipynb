{
 "cells": [
  {
   "cell_type": "code",
   "execution_count": 52,
   "metadata": {},
   "outputs": [],
   "source": [
    "import pandas as pd\n",
    "data = pd.read_csv('yoga.csv')"
   ]
  },
  {
   "cell_type": "code",
   "execution_count": 53,
   "metadata": {},
   "outputs": [
    {
     "data": {
      "text/html": [
       "<div>\n",
       "<style scoped>\n",
       "    .dataframe tbody tr th:only-of-type {\n",
       "        vertical-align: middle;\n",
       "    }\n",
       "\n",
       "    .dataframe tbody tr th {\n",
       "        vertical-align: top;\n",
       "    }\n",
       "\n",
       "    .dataframe thead th {\n",
       "        text-align: right;\n",
       "    }\n",
       "</style>\n",
       "<table border=\"1\" class=\"dataframe\">\n",
       "  <thead>\n",
       "    <tr style=\"text-align: right;\">\n",
       "      <th></th>\n",
       "      <th>0.5705745816230774</th>\n",
       "      <th>0.34196236729621887</th>\n",
       "      <th>-0.3000430166721344</th>\n",
       "      <th>0.5777037739753723</th>\n",
       "      <th>0.3305581212043762</th>\n",
       "      <th>-0.29214540123939514</th>\n",
       "      <th>0.5814395546913147</th>\n",
       "      <th>0.33062469959259033</th>\n",
       "      <th>-0.2922036349773407</th>\n",
       "      <th>0.5852534770965576</th>\n",
       "      <th>...</th>\n",
       "      <th>0.5245442390441895</th>\n",
       "      <th>0.8170720934867859</th>\n",
       "      <th>0.2539580166339874</th>\n",
       "      <th>0.5865736603736877</th>\n",
       "      <th>0.8691565990447998</th>\n",
       "      <th>-0.013350879773497581</th>\n",
       "      <th>0.506010890007019</th>\n",
       "      <th>0.8239930868148804</th>\n",
       "      <th>0.14937353134155273</th>\n",
       "      <th>Tadasana(Mountain Pose)</th>\n",
       "    </tr>\n",
       "  </thead>\n",
       "  <tbody>\n",
       "    <tr>\n",
       "      <th>0</th>\n",
       "      <td>0.565145</td>\n",
       "      <td>0.343457</td>\n",
       "      <td>-0.299348</td>\n",
       "      <td>0.569847</td>\n",
       "      <td>0.332176</td>\n",
       "      <td>-0.292266</td>\n",
       "      <td>0.572829</td>\n",
       "      <td>0.331864</td>\n",
       "      <td>-0.292319</td>\n",
       "      <td>0.576009</td>\n",
       "      <td>...</td>\n",
       "      <td>0.519162</td>\n",
       "      <td>0.814290</td>\n",
       "      <td>0.328033</td>\n",
       "      <td>0.584829</td>\n",
       "      <td>0.872581</td>\n",
       "      <td>-0.049662</td>\n",
       "      <td>0.501352</td>\n",
       "      <td>0.828007</td>\n",
       "      <td>0.228490</td>\n",
       "      <td>Tadasana(Mountain Pose)</td>\n",
       "    </tr>\n",
       "    <tr>\n",
       "      <th>1</th>\n",
       "      <td>0.549147</td>\n",
       "      <td>0.350599</td>\n",
       "      <td>-0.311550</td>\n",
       "      <td>0.554108</td>\n",
       "      <td>0.339392</td>\n",
       "      <td>-0.299964</td>\n",
       "      <td>0.556764</td>\n",
       "      <td>0.339181</td>\n",
       "      <td>-0.299971</td>\n",
       "      <td>0.559398</td>\n",
       "      <td>...</td>\n",
       "      <td>0.512161</td>\n",
       "      <td>0.814378</td>\n",
       "      <td>0.191342</td>\n",
       "      <td>0.584810</td>\n",
       "      <td>0.849199</td>\n",
       "      <td>0.067063</td>\n",
       "      <td>0.501724</td>\n",
       "      <td>0.837978</td>\n",
       "      <td>0.077521</td>\n",
       "      <td>Tadasana(Mountain Pose)</td>\n",
       "    </tr>\n",
       "    <tr>\n",
       "      <th>2</th>\n",
       "      <td>0.523903</td>\n",
       "      <td>0.357829</td>\n",
       "      <td>-0.311725</td>\n",
       "      <td>0.528465</td>\n",
       "      <td>0.347062</td>\n",
       "      <td>-0.301322</td>\n",
       "      <td>0.531591</td>\n",
       "      <td>0.346496</td>\n",
       "      <td>-0.301339</td>\n",
       "      <td>0.534556</td>\n",
       "      <td>...</td>\n",
       "      <td>0.509831</td>\n",
       "      <td>0.814650</td>\n",
       "      <td>0.165343</td>\n",
       "      <td>0.582359</td>\n",
       "      <td>0.844155</td>\n",
       "      <td>0.033099</td>\n",
       "      <td>0.500252</td>\n",
       "      <td>0.839902</td>\n",
       "      <td>0.058857</td>\n",
       "      <td>Tadasana(Mountain Pose)</td>\n",
       "    </tr>\n",
       "    <tr>\n",
       "      <th>3</th>\n",
       "      <td>0.519927</td>\n",
       "      <td>0.360644</td>\n",
       "      <td>-0.311172</td>\n",
       "      <td>0.524735</td>\n",
       "      <td>0.350119</td>\n",
       "      <td>-0.298439</td>\n",
       "      <td>0.527554</td>\n",
       "      <td>0.349974</td>\n",
       "      <td>-0.298429</td>\n",
       "      <td>0.530921</td>\n",
       "      <td>...</td>\n",
       "      <td>0.509273</td>\n",
       "      <td>0.815679</td>\n",
       "      <td>0.161920</td>\n",
       "      <td>0.574632</td>\n",
       "      <td>0.841345</td>\n",
       "      <td>0.032460</td>\n",
       "      <td>0.499617</td>\n",
       "      <td>0.842010</td>\n",
       "      <td>0.055358</td>\n",
       "      <td>Tadasana(Mountain Pose)</td>\n",
       "    </tr>\n",
       "    <tr>\n",
       "      <th>4</th>\n",
       "      <td>0.515656</td>\n",
       "      <td>0.363570</td>\n",
       "      <td>-0.317632</td>\n",
       "      <td>0.519983</td>\n",
       "      <td>0.352111</td>\n",
       "      <td>-0.308250</td>\n",
       "      <td>0.523324</td>\n",
       "      <td>0.351693</td>\n",
       "      <td>-0.308236</td>\n",
       "      <td>0.526631</td>\n",
       "      <td>...</td>\n",
       "      <td>0.509678</td>\n",
       "      <td>0.816814</td>\n",
       "      <td>0.143059</td>\n",
       "      <td>0.576448</td>\n",
       "      <td>0.843543</td>\n",
       "      <td>0.001684</td>\n",
       "      <td>0.498901</td>\n",
       "      <td>0.843333</td>\n",
       "      <td>0.037427</td>\n",
       "      <td>Tadasana(Mountain Pose)</td>\n",
       "    </tr>\n",
       "    <tr>\n",
       "      <th>...</th>\n",
       "      <td>...</td>\n",
       "      <td>...</td>\n",
       "      <td>...</td>\n",
       "      <td>...</td>\n",
       "      <td>...</td>\n",
       "      <td>...</td>\n",
       "      <td>...</td>\n",
       "      <td>...</td>\n",
       "      <td>...</td>\n",
       "      <td>...</td>\n",
       "      <td>...</td>\n",
       "      <td>...</td>\n",
       "      <td>...</td>\n",
       "      <td>...</td>\n",
       "      <td>...</td>\n",
       "      <td>...</td>\n",
       "      <td>...</td>\n",
       "      <td>...</td>\n",
       "      <td>...</td>\n",
       "      <td>...</td>\n",
       "      <td>...</td>\n",
       "    </tr>\n",
       "    <tr>\n",
       "      <th>3594</th>\n",
       "      <td>0.568420</td>\n",
       "      <td>0.306535</td>\n",
       "      <td>-0.222271</td>\n",
       "      <td>0.571379</td>\n",
       "      <td>0.297832</td>\n",
       "      <td>-0.208712</td>\n",
       "      <td>0.574182</td>\n",
       "      <td>0.297916</td>\n",
       "      <td>-0.208722</td>\n",
       "      <td>0.576995</td>\n",
       "      <td>...</td>\n",
       "      <td>0.567148</td>\n",
       "      <td>0.717837</td>\n",
       "      <td>0.124072</td>\n",
       "      <td>0.592678</td>\n",
       "      <td>0.726441</td>\n",
       "      <td>0.104515</td>\n",
       "      <td>0.574067</td>\n",
       "      <td>0.746279</td>\n",
       "      <td>0.020334</td>\n",
       "      <td>Nothing doing</td>\n",
       "    </tr>\n",
       "    <tr>\n",
       "      <th>3595</th>\n",
       "      <td>0.571497</td>\n",
       "      <td>0.290524</td>\n",
       "      <td>-0.229156</td>\n",
       "      <td>0.576420</td>\n",
       "      <td>0.282194</td>\n",
       "      <td>-0.217605</td>\n",
       "      <td>0.579243</td>\n",
       "      <td>0.282399</td>\n",
       "      <td>-0.217622</td>\n",
       "      <td>0.581981</td>\n",
       "      <td>...</td>\n",
       "      <td>0.570514</td>\n",
       "      <td>0.724377</td>\n",
       "      <td>0.113921</td>\n",
       "      <td>0.609791</td>\n",
       "      <td>0.745918</td>\n",
       "      <td>0.007421</td>\n",
       "      <td>0.571214</td>\n",
       "      <td>0.749747</td>\n",
       "      <td>0.006450</td>\n",
       "      <td>Nothing doing</td>\n",
       "    </tr>\n",
       "    <tr>\n",
       "      <th>3596</th>\n",
       "      <td>0.585604</td>\n",
       "      <td>0.261720</td>\n",
       "      <td>-0.309599</td>\n",
       "      <td>0.591243</td>\n",
       "      <td>0.253631</td>\n",
       "      <td>-0.297888</td>\n",
       "      <td>0.594959</td>\n",
       "      <td>0.253895</td>\n",
       "      <td>-0.297899</td>\n",
       "      <td>0.598395</td>\n",
       "      <td>...</td>\n",
       "      <td>0.573462</td>\n",
       "      <td>0.709386</td>\n",
       "      <td>0.239242</td>\n",
       "      <td>0.600906</td>\n",
       "      <td>0.766662</td>\n",
       "      <td>0.080637</td>\n",
       "      <td>0.569009</td>\n",
       "      <td>0.749080</td>\n",
       "      <td>0.147113</td>\n",
       "      <td>Nothing doing</td>\n",
       "    </tr>\n",
       "    <tr>\n",
       "      <th>3597</th>\n",
       "      <td>0.566322</td>\n",
       "      <td>0.248816</td>\n",
       "      <td>-0.266016</td>\n",
       "      <td>0.571314</td>\n",
       "      <td>0.236186</td>\n",
       "      <td>-0.257167</td>\n",
       "      <td>0.574741</td>\n",
       "      <td>0.235523</td>\n",
       "      <td>-0.257207</td>\n",
       "      <td>0.578359</td>\n",
       "      <td>...</td>\n",
       "      <td>0.563710</td>\n",
       "      <td>0.763323</td>\n",
       "      <td>0.158609</td>\n",
       "      <td>0.604001</td>\n",
       "      <td>0.772247</td>\n",
       "      <td>0.050026</td>\n",
       "      <td>0.557405</td>\n",
       "      <td>0.787577</td>\n",
       "      <td>0.044123</td>\n",
       "      <td>Nothing doing</td>\n",
       "    </tr>\n",
       "    <tr>\n",
       "      <th>3598</th>\n",
       "      <td>0.521833</td>\n",
       "      <td>0.234647</td>\n",
       "      <td>-0.308172</td>\n",
       "      <td>0.526030</td>\n",
       "      <td>0.220030</td>\n",
       "      <td>-0.306084</td>\n",
       "      <td>0.530719</td>\n",
       "      <td>0.218325</td>\n",
       "      <td>-0.306107</td>\n",
       "      <td>0.535602</td>\n",
       "      <td>...</td>\n",
       "      <td>0.567814</td>\n",
       "      <td>0.775960</td>\n",
       "      <td>0.143168</td>\n",
       "      <td>0.605813</td>\n",
       "      <td>0.793993</td>\n",
       "      <td>-0.069489</td>\n",
       "      <td>0.550348</td>\n",
       "      <td>0.795810</td>\n",
       "      <td>0.030010</td>\n",
       "      <td>Nothing doing</td>\n",
       "    </tr>\n",
       "  </tbody>\n",
       "</table>\n",
       "<p>3599 rows × 100 columns</p>\n",
       "</div>"
      ],
      "text/plain": [
       "      0.5705745816230774   0.34196236729621887   -0.3000430166721344  \\\n",
       "0               0.565145              0.343457             -0.299348   \n",
       "1               0.549147              0.350599             -0.311550   \n",
       "2               0.523903              0.357829             -0.311725   \n",
       "3               0.519927              0.360644             -0.311172   \n",
       "4               0.515656              0.363570             -0.317632   \n",
       "...                  ...                   ...                   ...   \n",
       "3594            0.568420              0.306535             -0.222271   \n",
       "3595            0.571497              0.290524             -0.229156   \n",
       "3596            0.585604              0.261720             -0.309599   \n",
       "3597            0.566322              0.248816             -0.266016   \n",
       "3598            0.521833              0.234647             -0.308172   \n",
       "\n",
       "       0.5777037739753723   0.3305581212043762   -0.29214540123939514  \\\n",
       "0                0.569847             0.332176              -0.292266   \n",
       "1                0.554108             0.339392              -0.299964   \n",
       "2                0.528465             0.347062              -0.301322   \n",
       "3                0.524735             0.350119              -0.298439   \n",
       "4                0.519983             0.352111              -0.308250   \n",
       "...                   ...                  ...                    ...   \n",
       "3594             0.571379             0.297832              -0.208712   \n",
       "3595             0.576420             0.282194              -0.217605   \n",
       "3596             0.591243             0.253631              -0.297888   \n",
       "3597             0.571314             0.236186              -0.257167   \n",
       "3598             0.526030             0.220030              -0.306084   \n",
       "\n",
       "       0.5814395546913147   0.33062469959259033   -0.2922036349773407  \\\n",
       "0                0.572829              0.331864             -0.292319   \n",
       "1                0.556764              0.339181             -0.299971   \n",
       "2                0.531591              0.346496             -0.301339   \n",
       "3                0.527554              0.349974             -0.298429   \n",
       "4                0.523324              0.351693             -0.308236   \n",
       "...                   ...                   ...                   ...   \n",
       "3594             0.574182              0.297916             -0.208722   \n",
       "3595             0.579243              0.282399             -0.217622   \n",
       "3596             0.594959              0.253895             -0.297899   \n",
       "3597             0.574741              0.235523             -0.257207   \n",
       "3598             0.530719              0.218325             -0.306107   \n",
       "\n",
       "       0.5852534770965576  ...   0.5245442390441895   0.8170720934867859  \\\n",
       "0                0.576009  ...             0.519162             0.814290   \n",
       "1                0.559398  ...             0.512161             0.814378   \n",
       "2                0.534556  ...             0.509831             0.814650   \n",
       "3                0.530921  ...             0.509273             0.815679   \n",
       "4                0.526631  ...             0.509678             0.816814   \n",
       "...                   ...  ...                  ...                  ...   \n",
       "3594             0.576995  ...             0.567148             0.717837   \n",
       "3595             0.581981  ...             0.570514             0.724377   \n",
       "3596             0.598395  ...             0.573462             0.709386   \n",
       "3597             0.578359  ...             0.563710             0.763323   \n",
       "3598             0.535602  ...             0.567814             0.775960   \n",
       "\n",
       "       0.2539580166339874   0.5865736603736877   0.8691565990447998  \\\n",
       "0                0.328033             0.584829             0.872581   \n",
       "1                0.191342             0.584810             0.849199   \n",
       "2                0.165343             0.582359             0.844155   \n",
       "3                0.161920             0.574632             0.841345   \n",
       "4                0.143059             0.576448             0.843543   \n",
       "...                   ...                  ...                  ...   \n",
       "3594             0.124072             0.592678             0.726441   \n",
       "3595             0.113921             0.609791             0.745918   \n",
       "3596             0.239242             0.600906             0.766662   \n",
       "3597             0.158609             0.604001             0.772247   \n",
       "3598             0.143168             0.605813             0.793993   \n",
       "\n",
       "       -0.013350879773497581   0.506010890007019   0.8239930868148804  \\\n",
       "0                  -0.049662            0.501352             0.828007   \n",
       "1                   0.067063            0.501724             0.837978   \n",
       "2                   0.033099            0.500252             0.839902   \n",
       "3                   0.032460            0.499617             0.842010   \n",
       "4                   0.001684            0.498901             0.843333   \n",
       "...                      ...                 ...                  ...   \n",
       "3594                0.104515            0.574067             0.746279   \n",
       "3595                0.007421            0.571214             0.749747   \n",
       "3596                0.080637            0.569009             0.749080   \n",
       "3597                0.050026            0.557405             0.787577   \n",
       "3598               -0.069489            0.550348             0.795810   \n",
       "\n",
       "       0.14937353134155273  Tadasana(Mountain Pose)  \n",
       "0                 0.228490  Tadasana(Mountain Pose)  \n",
       "1                 0.077521  Tadasana(Mountain Pose)  \n",
       "2                 0.058857  Tadasana(Mountain Pose)  \n",
       "3                 0.055358  Tadasana(Mountain Pose)  \n",
       "4                 0.037427  Tadasana(Mountain Pose)  \n",
       "...                    ...                      ...  \n",
       "3594              0.020334            Nothing doing  \n",
       "3595              0.006450            Nothing doing  \n",
       "3596              0.147113            Nothing doing  \n",
       "3597              0.044123            Nothing doing  \n",
       "3598              0.030010            Nothing doing  \n",
       "\n",
       "[3599 rows x 100 columns]"
      ]
     },
     "execution_count": 53,
     "metadata": {},
     "output_type": "execute_result"
    }
   ],
   "source": [
    "data"
   ]
  },
  {
   "cell_type": "code",
   "execution_count": 54,
   "metadata": {},
   "outputs": [],
   "source": [
    "X = data.iloc[:,:-1].values"
   ]
  },
  {
   "cell_type": "code",
   "execution_count": 55,
   "metadata": {},
   "outputs": [
    {
     "data": {
      "text/plain": [
       "array([[ 0.56514508,  0.34345701, -0.29934794, ...,  0.50135243,\n",
       "         0.82800657,  0.22848995],\n",
       "       [ 0.54914707,  0.35059884, -0.31154951, ...,  0.50172389,\n",
       "         0.83797783,  0.07752093],\n",
       "       [ 0.52390349,  0.35782883, -0.31172499, ...,  0.50025189,\n",
       "         0.83990216,  0.05885693],\n",
       "       ...,\n",
       "       [ 0.58560425,  0.26172015, -0.30959943, ...,  0.56900877,\n",
       "         0.74908048,  0.14711329],\n",
       "       [ 0.56632245,  0.24881558, -0.26601633, ...,  0.5574047 ,\n",
       "         0.78757668,  0.04412334],\n",
       "       [ 0.52183282,  0.23464657, -0.30817202, ...,  0.55034781,\n",
       "         0.79580986,  0.03000967]])"
      ]
     },
     "execution_count": 55,
     "metadata": {},
     "output_type": "execute_result"
    }
   ],
   "source": [
    "X"
   ]
  },
  {
   "cell_type": "code",
   "execution_count": 56,
   "metadata": {},
   "outputs": [],
   "source": [
    "Y = data.iloc[:,-1].values"
   ]
  },
  {
   "cell_type": "code",
   "execution_count": 57,
   "metadata": {},
   "outputs": [
    {
     "data": {
      "text/plain": [
       "array(['Tadasana(Mountain Pose)', 'Tadasana(Mountain Pose)',\n",
       "       'Tadasana(Mountain Pose)', ..., 'Nothing doing', 'Nothing doing',\n",
       "       'Nothing doing'], dtype=object)"
      ]
     },
     "execution_count": 57,
     "metadata": {},
     "output_type": "execute_result"
    }
   ],
   "source": [
    "Y"
   ]
  },
  {
   "cell_type": "code",
   "execution_count": 58,
   "metadata": {},
   "outputs": [],
   "source": [
    "from sklearn.model_selection import train_test_split\n",
    "\n",
    "X_train, X_test, Y_train, Y_test = train_test_split(X,Y,test_size = 0.2)"
   ]
  },
  {
   "cell_type": "code",
   "execution_count": 59,
   "metadata": {},
   "outputs": [
    {
     "data": {
      "text/plain": [
       "(2879, 99)"
      ]
     },
     "execution_count": 59,
     "metadata": {},
     "output_type": "execute_result"
    }
   ],
   "source": [
    "X_train.shape"
   ]
  },
  {
   "cell_type": "code",
   "execution_count": 60,
   "metadata": {},
   "outputs": [
    {
     "data": {
      "text/plain": [
       "(720, 99)"
      ]
     },
     "execution_count": 60,
     "metadata": {},
     "output_type": "execute_result"
    }
   ],
   "source": [
    "X_test.shape"
   ]
  },
  {
   "cell_type": "code",
   "execution_count": 61,
   "metadata": {},
   "outputs": [
    {
     "data": {
      "text/plain": [
       "(2879,)"
      ]
     },
     "execution_count": 61,
     "metadata": {},
     "output_type": "execute_result"
    }
   ],
   "source": [
    "Y_train.shape"
   ]
  },
  {
   "cell_type": "code",
   "execution_count": 62,
   "metadata": {},
   "outputs": [
    {
     "data": {
      "text/plain": [
       "(720,)"
      ]
     },
     "execution_count": 62,
     "metadata": {},
     "output_type": "execute_result"
    }
   ],
   "source": [
    "Y_test.shape"
   ]
  },
  {
   "cell_type": "code",
   "execution_count": 63,
   "metadata": {},
   "outputs": [
    {
     "data": {
      "text/plain": [
       "array(['Trikonasana(Triangle Pose)', 'Naukasana(Boat Pose)',\n",
       "       'Utkatasana(Chair Pose)', ..., 'Naukasana(Boat Pose)',\n",
       "       'Utkatasana(Chair Pose)', 'Nothing doing'], dtype=object)"
      ]
     },
     "execution_count": 63,
     "metadata": {},
     "output_type": "execute_result"
    }
   ],
   "source": [
    "Y_train"
   ]
  },
  {
   "cell_type": "code",
   "execution_count": 64,
   "metadata": {},
   "outputs": [
    {
     "data": {
      "text/plain": [
       "array([[ 0.38198298,  0.47762358, -0.55024326, ...,  0.30463594,\n",
       "         0.76910537,  0.05151603],\n",
       "       [ 0.54641736,  0.69311643, -0.0820799 , ...,  0.35345411,\n",
       "         0.64942992,  0.11520889],\n",
       "       [ 0.50156057,  0.39805213,  0.05324125, ...,  0.53271568,\n",
       "         0.9426406 ,  0.20160429],\n",
       "       ...,\n",
       "       [ 0.55016947,  0.68997842, -0.04981938, ...,  0.35935146,\n",
       "         0.64150143,  0.11180403],\n",
       "       [ 0.49399263,  0.38479936,  0.06498645, ...,  0.52846408,\n",
       "         0.93837857,  0.17641065],\n",
       "       [ 0.20583589,  0.22962704,  0.21106485, ...,  0.21523483,\n",
       "         0.7669853 ,  0.09194159]])"
      ]
     },
     "execution_count": 64,
     "metadata": {},
     "output_type": "execute_result"
    }
   ],
   "source": [
    "X_train"
   ]
  },
  {
   "cell_type": "code",
   "execution_count": 67,
   "metadata": {},
   "outputs": [
    {
     "data": {
      "text/html": [
       "<style>#sk-container-id-3 {color: black;background-color: white;}#sk-container-id-3 pre{padding: 0;}#sk-container-id-3 div.sk-toggleable {background-color: white;}#sk-container-id-3 label.sk-toggleable__label {cursor: pointer;display: block;width: 100%;margin-bottom: 0;padding: 0.3em;box-sizing: border-box;text-align: center;}#sk-container-id-3 label.sk-toggleable__label-arrow:before {content: \"▸\";float: left;margin-right: 0.25em;color: #696969;}#sk-container-id-3 label.sk-toggleable__label-arrow:hover:before {color: black;}#sk-container-id-3 div.sk-estimator:hover label.sk-toggleable__label-arrow:before {color: black;}#sk-container-id-3 div.sk-toggleable__content {max-height: 0;max-width: 0;overflow: hidden;text-align: left;background-color: #f0f8ff;}#sk-container-id-3 div.sk-toggleable__content pre {margin: 0.2em;color: black;border-radius: 0.25em;background-color: #f0f8ff;}#sk-container-id-3 input.sk-toggleable__control:checked~div.sk-toggleable__content {max-height: 200px;max-width: 100%;overflow: auto;}#sk-container-id-3 input.sk-toggleable__control:checked~label.sk-toggleable__label-arrow:before {content: \"▾\";}#sk-container-id-3 div.sk-estimator input.sk-toggleable__control:checked~label.sk-toggleable__label {background-color: #d4ebff;}#sk-container-id-3 div.sk-label input.sk-toggleable__control:checked~label.sk-toggleable__label {background-color: #d4ebff;}#sk-container-id-3 input.sk-hidden--visually {border: 0;clip: rect(1px 1px 1px 1px);clip: rect(1px, 1px, 1px, 1px);height: 1px;margin: -1px;overflow: hidden;padding: 0;position: absolute;width: 1px;}#sk-container-id-3 div.sk-estimator {font-family: monospace;background-color: #f0f8ff;border: 1px dotted black;border-radius: 0.25em;box-sizing: border-box;margin-bottom: 0.5em;}#sk-container-id-3 div.sk-estimator:hover {background-color: #d4ebff;}#sk-container-id-3 div.sk-parallel-item::after {content: \"\";width: 100%;border-bottom: 1px solid gray;flex-grow: 1;}#sk-container-id-3 div.sk-label:hover label.sk-toggleable__label {background-color: #d4ebff;}#sk-container-id-3 div.sk-serial::before {content: \"\";position: absolute;border-left: 1px solid gray;box-sizing: border-box;top: 0;bottom: 0;left: 50%;z-index: 0;}#sk-container-id-3 div.sk-serial {display: flex;flex-direction: column;align-items: center;background-color: white;padding-right: 0.2em;padding-left: 0.2em;position: relative;}#sk-container-id-3 div.sk-item {position: relative;z-index: 1;}#sk-container-id-3 div.sk-parallel {display: flex;align-items: stretch;justify-content: center;background-color: white;position: relative;}#sk-container-id-3 div.sk-item::before, #sk-container-id-3 div.sk-parallel-item::before {content: \"\";position: absolute;border-left: 1px solid gray;box-sizing: border-box;top: 0;bottom: 0;left: 50%;z-index: -1;}#sk-container-id-3 div.sk-parallel-item {display: flex;flex-direction: column;z-index: 1;position: relative;background-color: white;}#sk-container-id-3 div.sk-parallel-item:first-child::after {align-self: flex-end;width: 50%;}#sk-container-id-3 div.sk-parallel-item:last-child::after {align-self: flex-start;width: 50%;}#sk-container-id-3 div.sk-parallel-item:only-child::after {width: 0;}#sk-container-id-3 div.sk-dashed-wrapped {border: 1px dashed gray;margin: 0 0.4em 0.5em 0.4em;box-sizing: border-box;padding-bottom: 0.4em;background-color: white;}#sk-container-id-3 div.sk-label label {font-family: monospace;font-weight: bold;display: inline-block;line-height: 1.2em;}#sk-container-id-3 div.sk-label-container {text-align: center;}#sk-container-id-3 div.sk-container {/* jupyter's `normalize.less` sets `[hidden] { display: none; }` but bootstrap.min.css set `[hidden] { display: none !important; }` so we also need the `!important` here to be able to override the default hidden behavior on the sphinx rendered scikit-learn.org. See: https://github.com/scikit-learn/scikit-learn/issues/21755 */display: inline-block !important;position: relative;}#sk-container-id-3 div.sk-text-repr-fallback {display: none;}</style><div id=\"sk-container-id-3\" class=\"sk-top-container\"><div class=\"sk-text-repr-fallback\"><pre>LogisticRegression(max_iter=1000)</pre><b>In a Jupyter environment, please rerun this cell to show the HTML representation or trust the notebook. <br />On GitHub, the HTML representation is unable to render, please try loading this page with nbviewer.org.</b></div><div class=\"sk-container\" hidden><div class=\"sk-item\"><div class=\"sk-estimator sk-toggleable\"><input class=\"sk-toggleable__control sk-hidden--visually\" id=\"sk-estimator-id-3\" type=\"checkbox\" checked><label for=\"sk-estimator-id-3\" class=\"sk-toggleable__label sk-toggleable__label-arrow\">LogisticRegression</label><div class=\"sk-toggleable__content\"><pre>LogisticRegression(max_iter=1000)</pre></div></div></div></div></div>"
      ],
      "text/plain": [
       "LogisticRegression(max_iter=1000)"
      ]
     },
     "execution_count": 67,
     "metadata": {},
     "output_type": "execute_result"
    }
   ],
   "source": [
    "from sklearn.linear_model import LogisticRegression\n",
    "classifier1 = LogisticRegression(max_iter=1000)\n",
    "classifier1.fit(X_train,Y_train)"
   ]
  },
  {
   "cell_type": "code",
   "execution_count": 68,
   "metadata": {},
   "outputs": [
    {
     "data": {
      "text/html": [
       "<style>#sk-container-id-4 {color: black;background-color: white;}#sk-container-id-4 pre{padding: 0;}#sk-container-id-4 div.sk-toggleable {background-color: white;}#sk-container-id-4 label.sk-toggleable__label {cursor: pointer;display: block;width: 100%;margin-bottom: 0;padding: 0.3em;box-sizing: border-box;text-align: center;}#sk-container-id-4 label.sk-toggleable__label-arrow:before {content: \"▸\";float: left;margin-right: 0.25em;color: #696969;}#sk-container-id-4 label.sk-toggleable__label-arrow:hover:before {color: black;}#sk-container-id-4 div.sk-estimator:hover label.sk-toggleable__label-arrow:before {color: black;}#sk-container-id-4 div.sk-toggleable__content {max-height: 0;max-width: 0;overflow: hidden;text-align: left;background-color: #f0f8ff;}#sk-container-id-4 div.sk-toggleable__content pre {margin: 0.2em;color: black;border-radius: 0.25em;background-color: #f0f8ff;}#sk-container-id-4 input.sk-toggleable__control:checked~div.sk-toggleable__content {max-height: 200px;max-width: 100%;overflow: auto;}#sk-container-id-4 input.sk-toggleable__control:checked~label.sk-toggleable__label-arrow:before {content: \"▾\";}#sk-container-id-4 div.sk-estimator input.sk-toggleable__control:checked~label.sk-toggleable__label {background-color: #d4ebff;}#sk-container-id-4 div.sk-label input.sk-toggleable__control:checked~label.sk-toggleable__label {background-color: #d4ebff;}#sk-container-id-4 input.sk-hidden--visually {border: 0;clip: rect(1px 1px 1px 1px);clip: rect(1px, 1px, 1px, 1px);height: 1px;margin: -1px;overflow: hidden;padding: 0;position: absolute;width: 1px;}#sk-container-id-4 div.sk-estimator {font-family: monospace;background-color: #f0f8ff;border: 1px dotted black;border-radius: 0.25em;box-sizing: border-box;margin-bottom: 0.5em;}#sk-container-id-4 div.sk-estimator:hover {background-color: #d4ebff;}#sk-container-id-4 div.sk-parallel-item::after {content: \"\";width: 100%;border-bottom: 1px solid gray;flex-grow: 1;}#sk-container-id-4 div.sk-label:hover label.sk-toggleable__label {background-color: #d4ebff;}#sk-container-id-4 div.sk-serial::before {content: \"\";position: absolute;border-left: 1px solid gray;box-sizing: border-box;top: 0;bottom: 0;left: 50%;z-index: 0;}#sk-container-id-4 div.sk-serial {display: flex;flex-direction: column;align-items: center;background-color: white;padding-right: 0.2em;padding-left: 0.2em;position: relative;}#sk-container-id-4 div.sk-item {position: relative;z-index: 1;}#sk-container-id-4 div.sk-parallel {display: flex;align-items: stretch;justify-content: center;background-color: white;position: relative;}#sk-container-id-4 div.sk-item::before, #sk-container-id-4 div.sk-parallel-item::before {content: \"\";position: absolute;border-left: 1px solid gray;box-sizing: border-box;top: 0;bottom: 0;left: 50%;z-index: -1;}#sk-container-id-4 div.sk-parallel-item {display: flex;flex-direction: column;z-index: 1;position: relative;background-color: white;}#sk-container-id-4 div.sk-parallel-item:first-child::after {align-self: flex-end;width: 50%;}#sk-container-id-4 div.sk-parallel-item:last-child::after {align-self: flex-start;width: 50%;}#sk-container-id-4 div.sk-parallel-item:only-child::after {width: 0;}#sk-container-id-4 div.sk-dashed-wrapped {border: 1px dashed gray;margin: 0 0.4em 0.5em 0.4em;box-sizing: border-box;padding-bottom: 0.4em;background-color: white;}#sk-container-id-4 div.sk-label label {font-family: monospace;font-weight: bold;display: inline-block;line-height: 1.2em;}#sk-container-id-4 div.sk-label-container {text-align: center;}#sk-container-id-4 div.sk-container {/* jupyter's `normalize.less` sets `[hidden] { display: none; }` but bootstrap.min.css set `[hidden] { display: none !important; }` so we also need the `!important` here to be able to override the default hidden behavior on the sphinx rendered scikit-learn.org. See: https://github.com/scikit-learn/scikit-learn/issues/21755 */display: inline-block !important;position: relative;}#sk-container-id-4 div.sk-text-repr-fallback {display: none;}</style><div id=\"sk-container-id-4\" class=\"sk-top-container\"><div class=\"sk-text-repr-fallback\"><pre>DecisionTreeClassifier()</pre><b>In a Jupyter environment, please rerun this cell to show the HTML representation or trust the notebook. <br />On GitHub, the HTML representation is unable to render, please try loading this page with nbviewer.org.</b></div><div class=\"sk-container\" hidden><div class=\"sk-item\"><div class=\"sk-estimator sk-toggleable\"><input class=\"sk-toggleable__control sk-hidden--visually\" id=\"sk-estimator-id-4\" type=\"checkbox\" checked><label for=\"sk-estimator-id-4\" class=\"sk-toggleable__label sk-toggleable__label-arrow\">DecisionTreeClassifier</label><div class=\"sk-toggleable__content\"><pre>DecisionTreeClassifier()</pre></div></div></div></div></div>"
      ],
      "text/plain": [
       "DecisionTreeClassifier()"
      ]
     },
     "execution_count": 68,
     "metadata": {},
     "output_type": "execute_result"
    }
   ],
   "source": [
    "from sklearn.tree import DecisionTreeClassifier\n",
    "classifier2 = DecisionTreeClassifier()\n",
    "classifier2.fit(X_train,Y_train)"
   ]
  },
  {
   "cell_type": "code",
   "execution_count": 69,
   "metadata": {},
   "outputs": [
    {
     "data": {
      "text/html": [
       "<style>#sk-container-id-5 {color: black;background-color: white;}#sk-container-id-5 pre{padding: 0;}#sk-container-id-5 div.sk-toggleable {background-color: white;}#sk-container-id-5 label.sk-toggleable__label {cursor: pointer;display: block;width: 100%;margin-bottom: 0;padding: 0.3em;box-sizing: border-box;text-align: center;}#sk-container-id-5 label.sk-toggleable__label-arrow:before {content: \"▸\";float: left;margin-right: 0.25em;color: #696969;}#sk-container-id-5 label.sk-toggleable__label-arrow:hover:before {color: black;}#sk-container-id-5 div.sk-estimator:hover label.sk-toggleable__label-arrow:before {color: black;}#sk-container-id-5 div.sk-toggleable__content {max-height: 0;max-width: 0;overflow: hidden;text-align: left;background-color: #f0f8ff;}#sk-container-id-5 div.sk-toggleable__content pre {margin: 0.2em;color: black;border-radius: 0.25em;background-color: #f0f8ff;}#sk-container-id-5 input.sk-toggleable__control:checked~div.sk-toggleable__content {max-height: 200px;max-width: 100%;overflow: auto;}#sk-container-id-5 input.sk-toggleable__control:checked~label.sk-toggleable__label-arrow:before {content: \"▾\";}#sk-container-id-5 div.sk-estimator input.sk-toggleable__control:checked~label.sk-toggleable__label {background-color: #d4ebff;}#sk-container-id-5 div.sk-label input.sk-toggleable__control:checked~label.sk-toggleable__label {background-color: #d4ebff;}#sk-container-id-5 input.sk-hidden--visually {border: 0;clip: rect(1px 1px 1px 1px);clip: rect(1px, 1px, 1px, 1px);height: 1px;margin: -1px;overflow: hidden;padding: 0;position: absolute;width: 1px;}#sk-container-id-5 div.sk-estimator {font-family: monospace;background-color: #f0f8ff;border: 1px dotted black;border-radius: 0.25em;box-sizing: border-box;margin-bottom: 0.5em;}#sk-container-id-5 div.sk-estimator:hover {background-color: #d4ebff;}#sk-container-id-5 div.sk-parallel-item::after {content: \"\";width: 100%;border-bottom: 1px solid gray;flex-grow: 1;}#sk-container-id-5 div.sk-label:hover label.sk-toggleable__label {background-color: #d4ebff;}#sk-container-id-5 div.sk-serial::before {content: \"\";position: absolute;border-left: 1px solid gray;box-sizing: border-box;top: 0;bottom: 0;left: 50%;z-index: 0;}#sk-container-id-5 div.sk-serial {display: flex;flex-direction: column;align-items: center;background-color: white;padding-right: 0.2em;padding-left: 0.2em;position: relative;}#sk-container-id-5 div.sk-item {position: relative;z-index: 1;}#sk-container-id-5 div.sk-parallel {display: flex;align-items: stretch;justify-content: center;background-color: white;position: relative;}#sk-container-id-5 div.sk-item::before, #sk-container-id-5 div.sk-parallel-item::before {content: \"\";position: absolute;border-left: 1px solid gray;box-sizing: border-box;top: 0;bottom: 0;left: 50%;z-index: -1;}#sk-container-id-5 div.sk-parallel-item {display: flex;flex-direction: column;z-index: 1;position: relative;background-color: white;}#sk-container-id-5 div.sk-parallel-item:first-child::after {align-self: flex-end;width: 50%;}#sk-container-id-5 div.sk-parallel-item:last-child::after {align-self: flex-start;width: 50%;}#sk-container-id-5 div.sk-parallel-item:only-child::after {width: 0;}#sk-container-id-5 div.sk-dashed-wrapped {border: 1px dashed gray;margin: 0 0.4em 0.5em 0.4em;box-sizing: border-box;padding-bottom: 0.4em;background-color: white;}#sk-container-id-5 div.sk-label label {font-family: monospace;font-weight: bold;display: inline-block;line-height: 1.2em;}#sk-container-id-5 div.sk-label-container {text-align: center;}#sk-container-id-5 div.sk-container {/* jupyter's `normalize.less` sets `[hidden] { display: none; }` but bootstrap.min.css set `[hidden] { display: none !important; }` so we also need the `!important` here to be able to override the default hidden behavior on the sphinx rendered scikit-learn.org. See: https://github.com/scikit-learn/scikit-learn/issues/21755 */display: inline-block !important;position: relative;}#sk-container-id-5 div.sk-text-repr-fallback {display: none;}</style><div id=\"sk-container-id-5\" class=\"sk-top-container\"><div class=\"sk-text-repr-fallback\"><pre>RandomForestClassifier()</pre><b>In a Jupyter environment, please rerun this cell to show the HTML representation or trust the notebook. <br />On GitHub, the HTML representation is unable to render, please try loading this page with nbviewer.org.</b></div><div class=\"sk-container\" hidden><div class=\"sk-item\"><div class=\"sk-estimator sk-toggleable\"><input class=\"sk-toggleable__control sk-hidden--visually\" id=\"sk-estimator-id-5\" type=\"checkbox\" checked><label for=\"sk-estimator-id-5\" class=\"sk-toggleable__label sk-toggleable__label-arrow\">RandomForestClassifier</label><div class=\"sk-toggleable__content\"><pre>RandomForestClassifier()</pre></div></div></div></div></div>"
      ],
      "text/plain": [
       "RandomForestClassifier()"
      ]
     },
     "execution_count": 69,
     "metadata": {},
     "output_type": "execute_result"
    }
   ],
   "source": [
    "from sklearn.ensemble import RandomForestClassifier\n",
    "\n",
    "classifier3 = RandomForestClassifier()\n",
    "classifier3.fit(X_train,Y_train)"
   ]
  },
  {
   "cell_type": "code",
   "execution_count": 70,
   "metadata": {},
   "outputs": [
    {
     "name": "stdout",
     "output_type": "stream",
     "text": [
      "0.9916666666666667\n",
      "1.0\n",
      "1.0\n"
     ]
    }
   ],
   "source": [
    "from sklearn.metrics import accuracy_score\n",
    "\n",
    "Y_pred1 = classifier1.predict(X_test)\n",
    "Y_pred2 = classifier2.predict(X_test)\n",
    "Y_pred3 = classifier3.predict(X_test)\n",
    "\n",
    "print(accuracy_score(Y_test,Y_pred1))\n",
    "print(accuracy_score(Y_test,Y_pred2))\n",
    "print(accuracy_score(Y_test,Y_pred3))"
   ]
  },
  {
   "cell_type": "code",
   "execution_count": 77,
   "metadata": {},
   "outputs": [],
   "source": [
    "import pickle\n",
    "\n",
    "model = open('model.pkl','wb')\n",
    "pickle.dump(classifier1,model)\n",
    "model.close()"
   ]
  }
 ],
 "metadata": {
  "kernelspec": {
   "display_name": "Python 3",
   "language": "python",
   "name": "python3"
  },
  "language_info": {
   "codemirror_mode": {
    "name": "ipython",
    "version": 3
   },
   "file_extension": ".py",
   "mimetype": "text/x-python",
   "name": "python",
   "nbconvert_exporter": "python",
   "pygments_lexer": "ipython3",
   "version": "3.10.11"
  },
  "orig_nbformat": 4
 },
 "nbformat": 4,
 "nbformat_minor": 2
}
